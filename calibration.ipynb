{
 "cells": [
  {
   "cell_type": "code",
   "execution_count": 1,
   "id": "2ee59079",
   "metadata": {},
   "outputs": [],
   "source": [
    "import open3d as o3d"
   ]
  },
  {
   "cell_type": "code",
   "execution_count": 2,
   "id": "f92b876b",
   "metadata": {},
   "outputs": [],
   "source": [
    "import numpy as np\n",
    "import numpy.linalg as LA"
   ]
  },
  {
   "cell_type": "code",
   "execution_count": 3,
   "id": "6eea9583",
   "metadata": {},
   "outputs": [],
   "source": [
    "import matplotlib.pyplot as plt"
   ]
  },
  {
   "cell_type": "code",
   "execution_count": 4,
   "id": "d5e740d3",
   "metadata": {},
   "outputs": [],
   "source": [
    "%matplotlib inline\n",
    "import cv2"
   ]
  },
  {
   "cell_type": "code",
   "execution_count": 26,
   "id": "a457fd78",
   "metadata": {},
   "outputs": [],
   "source": [
    "def transformation3(IM, transform_types='cartesian',fov_angle=94,fov_angle_o = None,no_data_indices = None, pitch=0, yaw=0, roll=0, mount_height=0):\n",
    "    \"\"\"\n",
    "    spherical (alpha,beta, rcm) to cartesian (x,y,z) where rcm is range in cm, alpha, beta are pixel indices\n",
    "    Input IM (rcm) range data in cm \n",
    "    Output x, y, z in rcm in cartesian coordinates. If cartesian transform then only transformation is removal of no_data_ind\n",
    "    \"\"\"\n",
    "\n",
    "    IM_new = IM\n",
    "    width = IM_new.shape[0]\n",
    "    height = IM_new.shape[1]\n",
    "\n",
    "    alfa0 = fov_angle * np.pi/ 360.0;  \n",
    "    step = 2*alfa0/width;\n",
    "    if fov_angle_o is not None:\n",
    "        beta0 = fov_angle_o * np.pi/ 360.0;  \n",
    "        step_o = 2*beta0/height;\n",
    "    else:\n",
    "        step_o = step\n",
    "    # print(width,height,fov_angle,fov_angle_o)\n",
    "\n",
    "    beta_array = (np.resize(np.arange(height) - height/2,(width,height)))*step_o\n",
    "    beta_array_cos = np.cos(beta_array)\n",
    "    beta_array_sin = np.sin(beta_array)\n",
    "    alpha_array = -(np.resize(np.arange(width)- width/2,(height,width)).transpose() )*step #increasing i is moving top row to bottom row of image, flip so that +y is pointing up from ground\n",
    "    alpha_array_cos = np.cos(alpha_array)\n",
    "    alpha_array_sin = np.sin(alpha_array)\n",
    "    \n",
    "    #multipication by 100 to take into cm which is needed according to espros (must be something to do with focal length)\n",
    "    if(transform_types =='cartesian'):\n",
    "        x = np.multiply(IM_new,beta_array_sin)+height/2\n",
    "        y = np.multiply(np.multiply(IM_new,beta_array_cos),alpha_array_sin)+width/2    \n",
    "        z = np.multiply(np.multiply(IM_new,beta_array_cos),alpha_array_cos)\n",
    "    elif(transform_types == 'cartesian_no_shift'): \n",
    "        x = np.multiply(IM_new,beta_array_sin)\n",
    "        y = np.multiply(np.multiply(IM_new,beta_array_cos),alpha_array_sin)\n",
    "        z = np.multiply(np.multiply(IM_new,beta_array_cos),alpha_array_cos)             \n",
    "    elif(transform_types =='spherical'):\n",
    "        x = np.resize(np.arange(width),(height,width)).transpose()## Y = y\n",
    "        y = np.resize(np.arange(height),(width,height))## X  = x\n",
    "        z = IM_new\n",
    "    \n",
    "    pitch *= np.pi / 180.0\n",
    "    yaw *= np.pi / 180.0\n",
    "    roll *= np.pi / 180.0\n",
    "\n",
    "    Rpitch = np.array([[1,0,0],[0,np.cos(pitch),-np.sin(pitch)],[0,np.sin(pitch),np.cos(pitch)]])   ##Rx\n",
    "    Ryaw = np.array([[np.cos(yaw),0,np.sin(yaw)],[0,1,0],[-np.sin(yaw),0,np.cos(yaw)]])             ##Ry\n",
    "    Rroll = np.array([[np.cos(roll),-np.sin(roll),0],[np.sin(roll),np.cos(roll),0],[0,0,1]])        ##Rz\n",
    "    R = np.dot(np.dot(Rpitch, Ryaw), Rroll)\n",
    "\n",
    "    T = np.array([0,mount_height,0]).reshape(3,1,-1) # reshape for proper broadcasting\n",
    "    \n",
    "    # 3x3 dot 120x160x3. dim 1 in R, dim 2 in array\n",
    "    x,y,z = np.tensordot(R, np.dstack((x,y,z)).squeeze(), axes=([1,2])) + T\n",
    "\n",
    "    rcm = IM_new\n",
    "    # till above full matrix, now removing only a select few\n",
    "    if no_data_indices:\n",
    "        no_data_indices = np.ravel_multi_index(no_data_indices,(width,height))\n",
    "        x = np.delete(x.flatten(),no_data_indices)\n",
    "        y = np.delete(y.flatten(),no_data_indices)\n",
    "        z = np.delete(z.flatten(),no_data_indices)\n",
    "        rcm = np.delete(IM_new.flatten(),no_data_indices)\n",
    "    \n",
    "    #print('v',np.histogram(z))\n",
    "    # print(\"transformation3: \", time.time()-t)\n",
    "    return x,y,z,rcm"
   ]
  },
  {
   "cell_type": "code",
   "execution_count": 70,
   "id": "b11744b9",
   "metadata": {},
   "outputs": [],
   "source": [
    "#These are the only intrinsic params we use -- our camera lens has very low distortion\n",
    "FOV_w = 44/180*np.pi\n",
    "FOV_h = 33/180*np.pi"
   ]
  },
  {
   "cell_type": "code",
   "execution_count": 29,
   "id": "1ce17ace",
   "metadata": {},
   "outputs": [],
   "source": [
    "# we are using open3d to read\n",
    "color_raw = o3d.io.read_image('/Users/rsingh/Data/chair_aug18_24MHz_3MHz_pose_1_upper_zmap_ampl//rgb_jpg/oyla_0001.jpg')\n",
    "depth_raw = o3d.io.read_image('/Users/rsingh/Data/chair_aug18_24MHz_3MHz_pose_1_upper_zmap_ampl/dist_png//oyla_0001.png')\n",
    "zmap_raw = o3d.io.read_image('/Users/rsingh/Data/chair_aug18_24MHz_3MHz_pose_1_upper_zmap_ampl/zmap_png///oyla_0001.png')"
   ]
  },
  {
   "cell_type": "code",
   "execution_count": 30,
   "id": "63f710f1",
   "metadata": {},
   "outputs": [],
   "source": [
    "radialDist = np.asarray(depth_raw)"
   ]
  },
  {
   "cell_type": "code",
   "execution_count": 73,
   "id": "f84e50c1",
   "metadata": {},
   "outputs": [],
   "source": [
    "#we can also cv2\n",
    "rd = cv2.imread('/Users/rsingh/Data/chair_aug18_24MHz_3MHz_pose_1_upper_zmap_ampl/dist_png//oyla_0001.png',-1)\n",
    "assert np.all(rd==radialDist)"
   ]
  },
  {
   "cell_type": "code",
   "execution_count": 31,
   "id": "1424f054",
   "metadata": {},
   "outputs": [],
   "source": [
    "#radial distance converted to cartesian using FOV intrinsic parameter\n",
    "x,y,z,rcm = transformation3(radialDist,transform_types='cartesian_no_shift',fov_angle=33,fov_angle_o=44,no_data_indices=np.where(radialDist==0))\n"
   ]
  },
  {
   "cell_type": "code",
   "execution_count": 32,
   "id": "2d9999a8",
   "metadata": {},
   "outputs": [],
   "source": [
    "points = np.c_[x,-1*y,z]"
   ]
  },
  {
   "cell_type": "code",
   "execution_count": 74,
   "id": "a3833e3e",
   "metadata": {},
   "outputs": [
    {
     "name": "stdout",
     "output_type": "stream",
     "text": [
      "[2125.17962667  610.84379217 7405.71179   ] [-3041.91022593 -2027.10480089    74.76537748]\n"
     ]
    }
   ],
   "source": [
    "print(np.max(points,axis=0),np.min(points,axis=0))\n"
   ]
  },
  {
   "cell_type": "code",
   "execution_count": 76,
   "id": "2334de6d",
   "metadata": {},
   "outputs": [],
   "source": [
    "#note from below that zmap[zmap>0] (from zmap_png) ~= z (from radialDisatnce and above transformation) "
   ]
  },
  {
   "cell_type": "code",
   "execution_count": 77,
   "id": "7a1bdd93",
   "metadata": {},
   "outputs": [
    {
     "data": {
      "text/plain": [
       "array([5985, 5988, 6137, ..., 2051, 2057, 2056], dtype=uint16)"
      ]
     },
     "execution_count": 77,
     "metadata": {},
     "output_type": "execute_result"
    }
   ],
   "source": [
    "zmap = np.asarray(zmap_raw)\n",
    "zmap[zmap>0]"
   ]
  },
  {
   "cell_type": "code",
   "execution_count": 78,
   "id": "683db79d",
   "metadata": {},
   "outputs": [
    {
     "data": {
      "text/plain": [
       "array([5985.65166185, 5988.54917608, 6136.4855068 , ..., 2051.06369721,\n",
       "       2057.19958046, 2056.20766045])"
      ]
     },
     "execution_count": 78,
     "metadata": {},
     "output_type": "execute_result"
    }
   ],
   "source": [
    "z"
   ]
  },
  {
   "cell_type": "code",
   "execution_count": 79,
   "id": "e33956a3",
   "metadata": {},
   "outputs": [],
   "source": [
    "#below FOV is converted to focal length using formulas in Szelenski book"
   ]
  },
  {
   "cell_type": "code",
   "execution_count": 80,
   "id": "702f6361",
   "metadata": {},
   "outputs": [],
   "source": [
    "width = radialDist.shape[0]\n",
    "height = radialDist.shape[1]\n",
    "fov_angle=33\n",
    "fov_angle_o=44\n",
    "alpha = fov_angle*np.pi/180\n",
    "step = alpha/width\n",
    "beta = fov_angle_o*np.pi/180\n",
    "step_o = beta/height"
   ]
  },
  {
   "cell_type": "code",
   "execution_count": 81,
   "id": "018dc736",
   "metadata": {},
   "outputs": [],
   "source": [
    "fl_w = width/2*(1/np.tan(alpha/2))\n",
    "fl_h = height/2*(1/np.tan(beta/2))"
   ]
  },
  {
   "cell_type": "code",
   "execution_count": 82,
   "id": "4cdb3786",
   "metadata": {},
   "outputs": [
    {
     "data": {
      "text/plain": [
       "810.226421421899"
      ]
     },
     "execution_count": 82,
     "metadata": {},
     "output_type": "execute_result"
    }
   ],
   "source": [
    "fl_w"
   ]
  },
  {
   "cell_type": "code",
   "execution_count": 83,
   "id": "71c7e46b",
   "metadata": {},
   "outputs": [
    {
     "data": {
      "text/plain": [
       "792.0277930932148"
      ]
     },
     "execution_count": 83,
     "metadata": {},
     "output_type": "execute_result"
    }
   ],
   "source": [
    "fl_h"
   ]
  },
  {
   "cell_type": "code",
   "execution_count": 84,
   "id": "b3d73c76",
   "metadata": {},
   "outputs": [],
   "source": [
    "#beyond this zmap is used in pinhole camera model by the open3d library"
   ]
  },
  {
   "cell_type": "code",
   "execution_count": 87,
   "id": "9a61ae32",
   "metadata": {},
   "outputs": [],
   "source": [
    "\n",
    "intrinsic = o3d.camera.PinholeCameraIntrinsic(height,width,fx=fl_h,fy=fl_w,cx=height/2,cy=width/2)"
   ]
  },
  {
   "cell_type": "code",
   "execution_count": 89,
   "id": "e46310a2",
   "metadata": {},
   "outputs": [],
   "source": [
    "rgbz_image = o3d.geometry.RGBDImage.create_from_color_and_depth(color_raw, zmap_raw,depth_trunc=50)\n",
    "pcd_rgbz = o3d.geometry.PointCloud.create_from_rgbd_image(\n",
    "    rgbz_image,\n",
    "    intrinsic)\n"
   ]
  },
  {
   "cell_type": "code",
   "execution_count": 241,
   "id": "22194564",
   "metadata": {},
   "outputs": [
    {
     "name": "stdout",
     "output_type": "stream",
     "text": [
      "\u001b[1;33m[Open3D WARNING] GLFW Error: Cocoa: Failed to find service port for display\u001b[0;m\n"
     ]
    }
   ],
   "source": [
    "o3d.visualization.draw_geometries([pcd_rgbz])"
   ]
  },
  {
   "cell_type": "code",
   "execution_count": 91,
   "id": "ffddfefc",
   "metadata": {},
   "outputs": [],
   "source": [
    "# open3d does mm to m conversion -- hence above depth trunc at 50m and here multiplication by 1000\n",
    "pcd_rgbz_points = np.asarray(pcd_rgbz.points)*1000"
   ]
  },
  {
   "cell_type": "code",
   "execution_count": 92,
   "id": "2b2c5a4c",
   "metadata": {},
   "outputs": [
    {
     "name": "stdout",
     "output_type": "stream",
     "text": [
      "[2090.74606923  610.90210171 7406.00013733] [-2939.25548175 -2028.74158698    75.00000298]\n"
     ]
    }
   ],
   "source": [
    "\n",
    "print(np.max(pcd_rgbz_points,axis=0),np.min(pcd_rgbz_points,axis=0))\n"
   ]
  },
  {
   "cell_type": "code",
   "execution_count": 93,
   "id": "5a1f77f1",
   "metadata": {},
   "outputs": [
    {
     "name": "stdout",
     "output_type": "stream",
     "text": [
      "[2125.17962667  610.84379217 7405.71179   ] [-3041.91022593 -2027.10480089    74.76537748]\n"
     ]
    }
   ],
   "source": [
    "print(np.max(points,axis=0),np.min(points,axis=0))\n"
   ]
  },
  {
   "cell_type": "code",
   "execution_count": 94,
   "id": "814505e8",
   "metadata": {},
   "outputs": [
    {
     "data": {
      "image/png": "[encoded data removed]",
      "text/plain": [
       "<Figure size 640x480 with 1 Axes>"
      ]
     },
     "metadata": {},
     "output_type": "display_data"
    }
   ],
   "source": [
    "#just showing that pinhole model from open3d and transformation3 model are nearly equal\n",
    "_=plt.hist(pcd_rgbz_points[:,0])\n",
    "_=plt.hist(points[:,0])"
   ]
  },
  {
   "cell_type": "code",
   "execution_count": 95,
   "id": "96faf07b",
   "metadata": {},
   "outputs": [
    {
     "data": {
      "image/png": "[encoded data removed]",
      "text/plain": [
       "<Figure size 640x480 with 1 Axes>"
      ]
     },
     "metadata": {},
     "output_type": "display_data"
    }
   ],
   "source": [
    "_=plt.hist(points[:,1])\n",
    "_=plt.hist(pcd_rgbz_points[:,1])\n"
   ]
  },
  {
   "cell_type": "code",
   "execution_count": 52,
   "id": "109c7994",
   "metadata": {},
   "outputs": [
    {
     "data": {
      "text/plain": [
       "array([6733., 6733., 6896., ..., 2303., 2311., 2311.])"
      ]
     },
     "execution_count": 52,
     "metadata": {},
     "output_type": "execute_result"
    }
   ],
   "source": [
    "import scipy.linalg as LA\n",
    "LA.norm(points,2,axis=1)"
   ]
  },
  {
   "cell_type": "code",
   "execution_count": 56,
   "id": "e7885e41",
   "metadata": {},
   "outputs": [
    {
     "data": {
      "text/plain": [
       "array([6733, 6733, 6896, ..., 2303, 2311, 2311], dtype=uint16)"
      ]
     },
     "execution_count": 56,
     "metadata": {},
     "output_type": "execute_result"
    }
   ],
   "source": [
    "radialDist[radialDist>0]"
   ]
  },
  {
   "cell_type": "code",
   "execution_count": 57,
   "id": "2c249c36",
   "metadata": {},
   "outputs": [
    {
     "data": {
      "text/plain": [
       "array([6694.0550987 , 6694.68295764, 6858.4800468 , ..., 2290.5214615 ,\n",
       "       2298.15399086, 2297.97099017])"
      ]
     },
     "execution_count": 57,
     "metadata": {},
     "output_type": "execute_result"
    }
   ],
   "source": [
    "LA.norm(pcd_rgbz_points,2,axis=1)"
   ]
  },
  {
   "cell_type": "code",
   "execution_count": null,
   "id": "5c8ee1fe",
   "metadata": {},
   "outputs": [],
   "source": []
  }
 ],
 "metadata": {
  "kernelspec": {
   "display_name": "Python 3 (ipykernel)",
   "language": "python",
   "name": "python3"
  },
  "language_info": {
   "codemirror_mode": {
    "name": "ipython",
    "version": 3
   },
   "file_extension": ".py",
   "mimetype": "text/x-python",
   "name": "python",
   "nbconvert_exporter": "python",
   "pygments_lexer": "ipython3",
   "version": "3.9.12"
  }
 },
 "nbformat": 4,
 "nbformat_minor": 5
}
