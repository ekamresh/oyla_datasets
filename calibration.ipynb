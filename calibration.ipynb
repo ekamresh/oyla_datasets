{
 "cells": [
  {
   "cell_type": "code",
   "execution_count": 1,
   "id": "2ee59079",
   "metadata": {},
   "outputs": [],
   "source": [
    "import open3d as o3d\n",
    "import numpy as np"
   ]
  },
  {
   "cell_type": "code",
   "execution_count": 70,
   "id": "b11744b9",
   "metadata": {},
   "outputs": [],
   "source": [
    "#These are the only intrinsic params we use -- our camera lens has very low distortion\n",
    "FOV_w = 44/180*np.pi\n",
    "FOV_h = 33/180*np.pi"
   ]
  },
  {
   "cell_type": "code",
   "execution_count": 29,
   "id": "1ce17ace",
   "metadata": {},
   "outputs": [],
   "source": [
    "# we are using open3d to read\n",
    "color_raw = o3d.io.read_image('path_to_rgb_image')\n",
    "depth_raw = o3d.io.read_image('path_to_dist_png_image')\n",
    "zmap_raw = o3d.io.read_image('path_to_zmap_png_image')"
   ]
  },
  {
   "cell_type": "code",
   "execution_count": 77,
   "id": "7a1bdd93",
   "metadata": {},
   "outputs": [
    {
     "data": {
      "text/plain": [
       "array([5985, 5988, 6137, ..., 2051, 2057, 2056], dtype=uint16)"
      ]
     },
     "execution_count": 77,
     "metadata": {},
     "output_type": "execute_result"
    }
   ],
   "source": [
    "radialDist = np.asarray(depth_raw)\n",
    "zmap = np.asarray(zmap_raw)\n",
    "zmap[zmap>0]"
   ]
  },
  {
   "cell_type": "code",
   "execution_count": 80,
   "id": "702f6361",
   "metadata": {},
   "outputs": [],
   "source": [
    "# convert from FoV to focal length\n",
    "width = radialDist.shape[0]\n",
    "height = radialDist.shape[1]\n",
    "fov_angle=33\n",
    "fov_angle_o=44\n",
    "alpha = fov_angle*np.pi/180\n",
    "beta = fov_angle_o*np.pi/180"
   ]
  },
  {
   "cell_type": "code",
   "execution_count": 81,
   "id": "018dc736",
   "metadata": {},
   "outputs": [],
   "source": [
    "fl_w = width/2*(1/np.tan(alpha/2))\n",
    "fl_h = height/2*(1/np.tan(beta/2))"
   ]
  },
  {
   "cell_type": "code",
   "execution_count": 84,
   "id": "b3d73c76",
   "metadata": {},
   "outputs": [],
   "source": [
    "#beyond this zmap is used in pinhole camera model by the open3d library"
   ]
  },
  {
   "cell_type": "code",
   "execution_count": 87,
   "id": "9a61ae32",
   "metadata": {},
   "outputs": [],
   "source": [
    "\n",
    "# setup intrinsics\n",
    "intrinsic = o3d.camera.PinholeCameraIntrinsic(height,width,fx=fl_h,fy=fl_w,cx=height/2,cy=width/2)"
   ]
  },
  {
   "cell_type": "code",
   "execution_count": 89,
   "id": "e46310a2",
   "metadata": {},
   "outputs": [],
   "source": [
    "# convert to point cloud - set depth truncation to 50 meters\n",
    "rgbz_image = o3d.geometry.RGBDImage.create_from_color_and_depth(color_raw, zmap_raw,depth_trunc=50)\n",
    "pcd_rgbz = o3d.geometry.PointCloud.create_from_rgbd_image(\n",
    "    rgbz_image,\n",
    "    intrinsic)\n"
   ]
  },
  {
   "cell_type": "code",
   "execution_count": null,
   "id": "b047feb6",
   "metadata": {},
   "outputs": [],
   "source": [
    "# visualize\n",
    "o3d.visualization.draw_geometries([pcd_rgbz])"
   ]
  },
  {
   "cell_type": "code",
   "execution_count": 91,
   "id": "ffddfefc",
   "metadata": {},
   "outputs": [],
   "source": [
    "# open3d does mm to m conversion -- therefore we multiply by 1000 below\n",
    "pcd_rgbz_points = np.asarray(pcd_rgbz.points)*1000"
   ]
  },
  {
   "cell_type": "code",
   "execution_count": 92,
   "id": "2b2c5a4c",
   "metadata": {},
   "outputs": [
    {
     "name": "stdout",
     "output_type": "stream",
     "text": [
      "[2090.74606923  610.90210171 7406.00013733] [-2939.25548175 -2028.74158698    75.00000298]\n"
     ]
    }
   ],
   "source": [
    "\n",
    "print(np.max(pcd_rgbz_points,axis=0),np.min(pcd_rgbz_points,axis=0))\n"
   ]
  },
  {
   "cell_type": "code",
   "execution_count": 93,
   "id": "5a1f77f1",
   "metadata": {},
   "outputs": [
    {
     "name": "stdout",
     "output_type": "stream",
     "text": [
      "[2125.17962667  610.84379217 7405.71179   ] [-3041.91022593 -2027.10480089    74.76537748]\n"
     ]
    }
   ],
   "source": [
    "print(np.max(points,axis=0),np.min(points,axis=0))\n"
   ]
  }
 ],
 "metadata": {
  "kernelspec": {
   "display_name": "Python 3 (ipykernel)",
   "language": "python",
   "name": "python3"
  },
  "language_info": {
   "codemirror_mode": {
    "name": "ipython",
    "version": 3
   },
   "file_extension": ".py",
   "mimetype": "text/x-python",
   "name": "python",
   "nbconvert_exporter": "python",
   "pygments_lexer": "ipython3",
   "version": "3.9.12"
  }
 },
 "nbformat": 4,
 "nbformat_minor": 5
}
